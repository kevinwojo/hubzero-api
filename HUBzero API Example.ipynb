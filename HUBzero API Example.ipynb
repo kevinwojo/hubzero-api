{
 "cells": [
  {
   "cell_type": "markdown",
   "metadata": {},
   "source": [
    "# HUBzero Password Auth Example\n",
    "\n",
    "This demonstrates how to use the HUBzero API to use the User/Password Flow for OAuth. Documentation is available on HUBzero's Website: https://hubzero.org/developer/api/docs#oauth-usercredentials\n",
    "\n",
    "### Notes\n",
    "This example disables SSL verification. This is dangerous for production applications. Remove `verify=False` from any requests before using in production.  \n",
    "\n",
    "This example will use some test credentials. When building your application, make sure that these are **NOT** stored in plaintext. Most applications will prompt the user upon first-time run / configuration and store the passwords securely."
   ]
  },
  {
   "cell_type": "markdown",
   "metadata": {},
   "source": [
    "## Registering an application\n",
    "For accounting purposes, each request must correspond to a registered application. \n",
    "To obtain your `client_id` and `client_secret`, register an application at `https://<host>/developer/api/applications`\n",
    "![title](applicationsecrets.PNG)"
   ]
  },
  {
   "cell_type": "markdown",
   "metadata": {},
   "source": [
    "Once you have registered your application, change the variables below to reflect *your* information."
   ]
  },
  {
   "cell_type": "code",
   "execution_count": 57,
   "metadata": {
    "collapsed": true
   },
   "outputs": [],
   "source": [
    "host = '10.8.0.4' # Change to your development machine\n",
    "username = 'hubzerosolr' # Your username\n",
    "password = 'hubzero123' # Your password\n",
    "client_id = 'a5f0947875a2960ba10cbf9fc2e2afdf' # Change me\n",
    "client_secret = '71e07c1e2aa1ae084af6409c6baafc693b6f375e' # Change me"
   ]
  },
  {
   "cell_type": "markdown",
   "metadata": {},
   "source": [
    "We will now use the `requests` Python library to make a POST request to your hosts to obtain a token using your username and password. The access token will be stored in the `access_token` variable for later use."
   ]
  },
  {
   "cell_type": "code",
   "execution_count": 58,
   "metadata": {
    "collapsed": false
   },
   "outputs": [
    {
     "name": "stderr",
     "output_type": "stream",
     "text": [
      "C:\\Users\\kwojo314\\Anaconda2\\lib\\site-packages\\requests\\packages\\urllib3\\connectionpool.py:843: InsecureRequestWarning: Unverified HTTPS request is being made. Adding certificate verification is strongly advised. See: https://urllib3.readthedocs.io/en/latest/advanced-usage.html#ssl-warnings\n",
      "  InsecureRequestWarning)\n"
     ]
    },
    {
     "name": "stdout",
     "output_type": "stream",
     "text": [
      "9135688374f83449c4da756e69bd3d2da2a6c0c7\n"
     ]
    }
   ],
   "source": [
    "import requests\n",
    "import json\n",
    "r = requests.post('https://' + host + '/developer/oauth/token', data = {\n",
    "    'client_id':client_id,\n",
    "    'client_secret':client_secret,\n",
    "    'username':username,\n",
    "    'password':password,\n",
    "    'grant_type':'password'}, verify=False)\n",
    "r.status_code\n",
    "response = r.json()\n",
    "access_token = response['access_token']\n",
    "print access_token"
   ]
  },
  {
   "cell_type": "markdown",
   "metadata": {},
   "source": [
    "Now that we have an access token, we must place it in the header for any priveleged requests we want to make. This can be accopmlished by making a dictionary with the key `Authorization` and the value of `Bearer <access_token>`. Notice there is a <space> between 'Bearer' and the token.\n",
    "\n",
    "This request will access the HUBzero Members API endpoint and list members of the Hub formatted as a JSON blob."
   ]
  },
  {
   "cell_type": "code",
   "execution_count": 59,
   "metadata": {
    "collapsed": false
   },
   "outputs": [
    {
     "name": "stderr",
     "output_type": "stream",
     "text": [
      "C:\\Users\\kwojo314\\Anaconda2\\lib\\site-packages\\requests\\packages\\urllib3\\connectionpool.py:843: InsecureRequestWarning: Unverified HTTPS request is being made. Adding certificate verification is strongly advised. See: https://urllib3.readthedocs.io/en/latest/advanced-usage.html#ssl-warnings\n",
      "  InsecureRequestWarning)\n"
     ]
    },
    {
     "name": "stdout",
     "output_type": "stream",
     "text": [
      "[{u'username': u'admin', u'surname': u'Manager', u'name': u'CMS Manager', u'middleName': u'', u'uri': u'https://10.8.0.4/members/1000', u'organization': None, u'givenName': u'CMS', u'id': u'1000'}, {u'username': u'hubzerosolr', u'surname': u'Solr', u'name': u'HUBzero Solr', u'middleName': u'', u'uri': u'https://10.8.0.4/members/1001', u'organization': None, u'givenName': u'HUBzero', u'id': u'1001'}]\n"
     ]
    }
   ],
   "source": [
    "headers = {'Authorization': 'Bearer ' + access_token}\n",
    "r = requests.get('https://' + host + '/api/members/list', headers=headers, verify=False)\n",
    "members = r.json()['members']\n",
    "print members"
   ]
  },
  {
   "cell_type": "markdown",
   "metadata": {},
   "source": [
    "If you wanted to iterate over elements of that blob (something common in web development), you might do something like this:"
   ]
  },
  {
   "cell_type": "code",
   "execution_count": 60,
   "metadata": {
    "collapsed": false
   },
   "outputs": [
    {
     "name": "stdout",
     "output_type": "stream",
     "text": [
      "CMS Manager\n",
      "HUBzero Solr\n"
     ]
    }
   ],
   "source": [
    "for member in members:\n",
    "    print member['name']"
   ]
  },
  {
   "cell_type": "markdown",
   "metadata": {},
   "source": [
    "You made your first password-authenticated API request! That wasn't so hard was it? The HUBzero Web Develoment Team is hard at work in planning and writing version 2.0 of the API. We hope to standardize the expected values and methods of the API. Stay tuned for more information. In the meantime, you n use the current version of the API. The endpoints are documented at https://hubzero.org/developer/api/docs"
   ]
  },
  {
   "cell_type": "code",
   "execution_count": null,
   "metadata": {
    "collapsed": true
   },
   "outputs": [],
   "source": []
  }
 ],
 "metadata": {
  "kernelspec": {
   "display_name": "Python 2",
   "language": "python",
   "name": "python2"
  },
  "language_info": {
   "codemirror_mode": {
    "name": "ipython",
    "version": 2
   },
   "file_extension": ".py",
   "mimetype": "text/x-python",
   "name": "python",
   "nbconvert_exporter": "python",
   "pygments_lexer": "ipython2",
   "version": "2.7.13"
  }
 },
 "nbformat": 4,
 "nbformat_minor": 2
}
